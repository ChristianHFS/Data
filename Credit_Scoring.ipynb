{
  "nbformat": 4,
  "nbformat_minor": 0,
  "metadata": {
    "colab": {
      "provenance": [],
      "include_colab_link": true
    },
    "kernelspec": {
      "name": "python3",
      "display_name": "Python 3"
    },
    "language_info": {
      "name": "python"
    }
  },
  "cells": [
    {
      "cell_type": "markdown",
      "metadata": {
        "id": "view-in-github",
        "colab_type": "text"
      },
      "source": [
        "<a href=\"https://colab.research.google.com/github/ChristianHFS/Data/blob/main/Credit_Scoring.ipynb\" target=\"_parent\"><img src=\"https://colab.research.google.com/assets/colab-badge.svg\" alt=\"Open In Colab\"/></a>"
      ]
    },
    {
      "cell_type": "markdown",
      "source": [
        "# CRISP-DM\n",
        "**CR**oss **I**ndustry **S**tandard **P**rocess for **D**ata **M**ining (CRISP-DM)\n",
        "![Image in a markdown cell](https://raw.githubusercontent.com/reynoldms/csv_data/main/crispdm.jpg)\n"
      ],
      "metadata": {
        "id": "Nd2Q1vPOdiaD"
      }
    },
    {
      "cell_type": "markdown",
      "source": [
        "# Import Library"
      ],
      "metadata": {
        "id": "TL4y4ujgBIjm"
      }
    },
    {
      "cell_type": "code",
      "execution_count": null,
      "metadata": {
        "id": "Md0NNG66_HPC"
      },
      "outputs": [],
      "source": [
        "import pandas as pd\n",
        "import numpy as np\n",
        "import matplotlib.pyplot as plt\n",
        "import seaborn as sns\n",
        "\n",
        "from sklearn.model_selection import train_test_split\n",
        "from sklearn.svm import SVC\n",
        "\n",
        "import warnings\n",
        "warnings.filterwarnings(\"ignore\")"
      ]
    },
    {
      "cell_type": "markdown",
      "source": [
        "# 1. Business Understanding\n",
        "What Is Credit Scoring?\n",
        "Credit scoring is a statistical analysis performed by lenders/financial institutions to determine the **creditworthiness** of a person or a small, owner-operated business. This score will be used to determine whether debtor candidate have **good** or **bad** risk.\n",
        "<br>  \n",
        "![Image in a markdown cell](https://www.homeispossiblenv.org/sites/default/files/Credit%20score%20main.png)\n"
      ],
      "metadata": {
        "id": "3-TkedJZ_Kpr"
      }
    },
    {
      "cell_type": "markdown",
      "source": [
        "The original dataset contains 1000 entries with 20 categorial/symbolic attributes prepared by Prof. Hofmann. In this dataset, each entry represents a person who takes a credit by a bank. Each person is classified as good or bad credit risks according to the set of attributes. The link to the original dataset can be found below.\n",
        "\n",
        "Source : https://www.kaggle.com/datasets/uciml/german-credit"
      ],
      "metadata": {
        "id": "X0_HNhDbAulu"
      }
    },
    {
      "cell_type": "markdown",
      "source": [
        "# 2. Data Understanding"
      ],
      "metadata": {
        "id": "qHUPJFMMAMmb"
      }
    },
    {
      "cell_type": "markdown",
      "source": [
        "## 2.1. Extract Data"
      ],
      "metadata": {
        "id": "_aS7z9jqCvh9"
      }
    },
    {
      "cell_type": "code",
      "source": [
        "df = pd.read_csv('https://raw.githubusercontent.com/reynoldms/csv_data/main/german_credit_data.csv', index_col= 0)"
      ],
      "metadata": {
        "id": "DRTTKaLQBbqR"
      },
      "execution_count": null,
      "outputs": []
    },
    {
      "cell_type": "code",
      "source": [
        "df.head()"
      ],
      "metadata": {
        "id": "OJhYXBJbaMxf"
      },
      "execution_count": null,
      "outputs": []
    },
    {
      "cell_type": "markdown",
      "source": [
        "Below are the details of independent variables in the dataset.\n",
        "1. Age (numeric)\n",
        "2. Sex (text)\n",
        "  - male\n",
        "  - female\n",
        "3. Job (numeric)\n",
        "  - 0 - unskilled and non-resident\n",
        "  - 1 - unskilled and resident\n",
        "  - 2 - skilled \n",
        "  - 3 - highly skilled\n",
        "4. Housing (text)\n",
        "  - own\n",
        "  - rent\n",
        "  - free\n",
        "5. Saving accounts (text) \n",
        "  - little\n",
        "  - moderate\n",
        "  - quite rich\n",
        "  - rich\n",
        "6. Checking account (text) \n",
        "  - little\n",
        "  - moderate\n",
        "  - quite rich\n",
        "  - rich\n",
        "7. Credit amount (numeric, same as *Checking account*)\n",
        "8. Duration (numeric, in month)\n",
        "9. Purpose (text)\n",
        "  - car\n",
        "  - furniture/equipment\n",
        "  - radio/TV, etc\n",
        "  \n",
        "Moreover, the dependent variables (target) is **Risk**."
      ],
      "metadata": {
        "id": "0XroVxCfB1Yc"
      }
    },
    {
      "cell_type": "markdown",
      "source": [
        "## 2.2. Statistic Description"
      ],
      "metadata": {
        "id": "DWAqoiWWCxqX"
      }
    },
    {
      "cell_type": "code",
      "source": [
        "df.describe()"
      ],
      "metadata": {
        "id": "3HUeP3U8C4z8"
      },
      "execution_count": null,
      "outputs": []
    },
    {
      "cell_type": "markdown",
      "source": [
        "## 2.3. Univariate Analysis"
      ],
      "metadata": {
        "id": "8esx0c98C_jx"
      }
    },
    {
      "cell_type": "code",
      "source": [
        "sns.countplot(df['Risk'], label = \"Count\") "
      ],
      "metadata": {
        "id": "EccdmzADDJXB"
      },
      "execution_count": null,
      "outputs": []
    },
    {
      "cell_type": "markdown",
      "source": [
        "## 2.4. Bivariate Analysis"
      ],
      "metadata": {
        "id": "KB2_EiQ8EDsV"
      }
    },
    {
      "cell_type": "code",
      "source": [],
      "metadata": {
        "id": "cErDXGtVEDS1"
      },
      "execution_count": null,
      "outputs": []
    },
    {
      "cell_type": "markdown",
      "source": [
        "There are several insigts we can get from plot above, which are :\n",
        "1.  \n",
        "2. "
      ],
      "metadata": {
        "id": "iJycdF0ValZB"
      }
    },
    {
      "cell_type": "markdown",
      "source": [
        "Anything else?"
      ],
      "metadata": {
        "id": "3nYd0neZisGp"
      }
    },
    {
      "cell_type": "code",
      "source": [],
      "metadata": {
        "id": "euiQyMOnTEyY"
      },
      "execution_count": null,
      "outputs": []
    },
    {
      "cell_type": "markdown",
      "source": [
        "Insights :\n",
        "1. "
      ],
      "metadata": {
        "id": "9GIOCiSxb5-2"
      }
    },
    {
      "cell_type": "markdown",
      "source": [
        "# 3. Data Preparation"
      ],
      "metadata": {
        "id": "l_0uaas6CPgL"
      }
    },
    {
      "cell_type": "markdown",
      "source": [
        "## 3.1. Handling Missing Value"
      ],
      "metadata": {
        "id": "x-QrVSjmCanT"
      }
    },
    {
      "cell_type": "code",
      "source": [
        "df.info()"
      ],
      "metadata": {
        "id": "BSMrGoRZCaCr"
      },
      "execution_count": null,
      "outputs": []
    },
    {
      "cell_type": "code",
      "source": [
        "# ## by dropping missing value\n",
        "# df.dropna(inplace=True)\n",
        "# df.info()"
      ],
      "metadata": {
        "id": "82_JFLUGa7n4"
      },
      "execution_count": null,
      "outputs": []
    },
    {
      "cell_type": "code",
      "source": [
        "## by imputing missing value"
      ],
      "metadata": {
        "id": "G813IFE6CO6l"
      },
      "execution_count": null,
      "outputs": []
    },
    {
      "cell_type": "markdown",
      "source": [
        "## 3.4. Predictors and Target"
      ],
      "metadata": {
        "id": "VfaOFgfabISv"
      }
    },
    {
      "cell_type": "code",
      "source": [
        "X = df.drop(['Risk'], axis=1)\n",
        "y = df['Risk']"
      ],
      "metadata": {
        "id": "UzLp_ltDELe9"
      },
      "execution_count": null,
      "outputs": []
    },
    {
      "cell_type": "markdown",
      "source": [
        "## 3.5. Feature Encoding"
      ],
      "metadata": {
        "id": "X1u-IaiObPnL"
      }
    },
    {
      "cell_type": "code",
      "source": [
        "## OneHotEncoder\n",
        "X = pd.get_dummies(X)"
      ],
      "metadata": {
        "id": "DKSgkDmCEfGk"
      },
      "execution_count": null,
      "outputs": []
    },
    {
      "cell_type": "code",
      "source": [
        "X.head()"
      ],
      "metadata": {
        "id": "7FTOeR0SfybZ"
      },
      "execution_count": null,
      "outputs": []
    },
    {
      "cell_type": "markdown",
      "source": [
        "## 3.2. Data Splitting"
      ],
      "metadata": {
        "id": "d2JKzbM3EL6h"
      }
    },
    {
      "cell_type": "code",
      "source": [
        "X_train, X_test, y_train, y_test = train_test_split(X, y, test_size=0.2, random_state = 42, stratify=y)"
      ],
      "metadata": {
        "id": "ZcxL57OaEVKB"
      },
      "execution_count": null,
      "outputs": []
    },
    {
      "cell_type": "markdown",
      "source": [
        "# 4. Baseline Model\n",
        "## 4.1. Training Model"
      ],
      "metadata": {
        "id": "OGXXkpiDCSwu"
      }
    },
    {
      "cell_type": "code",
      "source": [
        "model_svc = SVC()\n",
        "model_svc.fit(X_train, y_train)"
      ],
      "metadata": {
        "id": "XigAD8fNBlMl"
      },
      "execution_count": null,
      "outputs": []
    },
    {
      "cell_type": "markdown",
      "source": [
        "## 4.2. Evaluation"
      ],
      "metadata": {
        "id": "1pVJHnAmCX7_"
      }
    },
    {
      "cell_type": "code",
      "source": [
        "model_svc.score(X_train,y_train)"
      ],
      "metadata": {
        "id": "tdwM1I0HCZXI"
      },
      "execution_count": null,
      "outputs": []
    },
    {
      "cell_type": "markdown",
      "source": [
        "# 5. Tuning Model\n",
        "## 5.1. Training Model"
      ],
      "metadata": {
        "id": "GJtr76A3Fr2v"
      }
    },
    {
      "cell_type": "code",
      "source": [
        "model_svc_tuned = SVC(C = 0.001,  gamma = 5, kernel = 'rbf')\n",
        "model_svc_tuned.fit(X_train, y_train)"
      ],
      "metadata": {
        "id": "uN_72WYSQmIQ"
      },
      "execution_count": null,
      "outputs": []
    },
    {
      "cell_type": "code",
      "source": [
        "model_svc_tuned.score(X_train,y_train)"
      ],
      "metadata": {
        "id": "qhJrar4LQmLD"
      },
      "execution_count": null,
      "outputs": []
    },
    {
      "cell_type": "code",
      "source": [],
      "metadata": {
        "id": "cWcHrZLAQmN6"
      },
      "execution_count": null,
      "outputs": []
    }
  ]
}